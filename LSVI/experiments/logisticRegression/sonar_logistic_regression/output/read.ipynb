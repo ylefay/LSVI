{
 "cells": [
  {
   "cell_type": "code",
   "execution_count": 9,
   "id": "initial_id",
   "metadata": {
    "ExecuteTime": {
     "end_time": "2024-08-20T10:35:23.865333Z",
     "start_time": "2024-08-20T10:35:23.833065Z"
    },
    "tags": []
   },
   "source": [
    "import os\n",
    "import pickle\n",
    "from variational.exponential_family import GenericNormalDistribution, NormalDistribution\n",
    "from experiments.logisticRegression.utils import get_tgt_log_density, get_dataset\n",
    "import jax.numpy as jnp\n",
    "import jax\n",
    "import matplotlib.pyplot as plt\n",
    "import numpy as np\n",
    "\n",
    "flipped_predictors = get_dataset(dataset=\"Sonar\")\n",
    "N, dim = flipped_predictors.shape\n",
    "\n",
    "# Gaussian Prior\n",
    "my_prior_covariance = 25 * jnp.identity(dim)\n",
    "my_prior_covariance = my_prior_covariance.at[0, 0].set(400)\n",
    "my_prior_log_density = NormalDistribution(jnp.zeros(dim), my_prior_covariance).log_density\n",
    "tgt_log_density = jax.vmap(get_tgt_log_density(flipped_predictors, my_prior_log_density))\n",
    "\n",
    "PKLs = []\n",
    "PKL_titles = []\n",
    "for file in os.listdir(\"./\"):\n",
    "    if file.endswith(\".pkl\"):\n",
    "        PKLs.append(pickle.load(open(file, \"rb\")))\n",
    "        PKL_titles.append(str(file))\n",
    "\n",
    "full_gaussian = GenericNormalDistribution(dimension=dim)\n"
   ],
   "outputs": []
  },
  {
   "cell_type": "code",
   "execution_count": 11,
   "id": "c1e62c9b2c8a6a44",
   "metadata": {
    "ExecuteTime": {
     "end_time": "2024-08-20T10:35:26.099872Z",
     "start_time": "2024-08-20T10:35:26.073025Z"
    }
   },
   "source": [
    "lossesPKLs = []\n",
    "lossesPKL_titles = []\n",
    "for file in os.listdir(\"./losses/\"):\n",
    "    if file.endswith(\".pkl\"):\n",
    "        lossesPKLs.append(pickle.load(open(\"./losses/\"+file, \"rb\")))\n",
    "        lossesPKL_titles.append(str(file))"
   ],
   "outputs": []
  },
  {
   "cell_type": "code",
   "execution_count": 16,
   "id": "a6982bc525e7af56",
   "metadata": {
    "ExecuteTime": {
     "end_time": "2024-08-20T10:38:37.230907Z",
     "start_time": "2024-08-20T10:38:36.897023Z"
    }
   },
   "source": [
    "plt.plot(lossesPKLs[0][1:])\n",
    "plt.title(lossesPKL_titles[0])\n"
   ],
   "outputs": []
  },
  {
   "cell_type": "code",
   "execution_count": 17,
   "id": "c488ce920110fce",
   "metadata": {
    "ExecuteTime": {
     "end_time": "2024-08-20T10:38:05.958846Z",
     "start_time": "2024-08-20T10:38:05.949510Z"
    }
   },
   "source": [
    "np.savetxt('loss_1e4_10.csv', lossesPKLs[0])"
   ],
   "outputs": []
  },
  {
   "cell_type": "code",
   "execution_count": null,
   "id": "7a96b490e986c03",
   "metadata": {},
   "source": [],
   "outputs": []
  }
 ],
 "metadata": {
  "kernelspec": {
   "display_name": "lsvi",
   "language": "python",
   "name": "lsvi"
  },
  "language_info": {
   "codemirror_mode": {
    "name": "ipython",
    "version": 3
   },
   "file_extension": ".py",
   "mimetype": "text/x-python",
   "name": "python",
   "nbconvert_exporter": "python",
   "pygments_lexer": "ipython3",
   "version": "3.12.4"
  }
 },
 "nbformat": 4,
 "nbformat_minor": 5
}
