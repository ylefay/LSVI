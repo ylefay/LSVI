{
 "cells": [
  {
   "cell_type": "code",
   "execution_count": 25,
   "id": "initial_id",
   "metadata": {
    "ExecuteTime": {
     "end_time": "2024-08-13T11:02:30.427449Z",
     "start_time": "2024-08-13T11:02:24.797255Z"
    },
    "tags": []
   },
   "outputs": [],
   "source": [
    "import os\n",
    "import pickle\n",
    "import jax.numpy as jnp\n",
    "import jax\n",
    "from variational.exponential_family import GenericMeanFieldNormalDistribution, NormalDistribution\n",
    "from experiments.logisticRegression.utils import get_tgt_log_density, get_dataset\n",
    "import numpy as np\n",
    "import matplotlib.pyplot as plt\n",
    "\n",
    "jax.config.update(\"jax_enable_x64\", True)\n",
    "\n",
    "\n",
    "flipped_predictors = get_dataset(dataset=\"Sonar\")\n",
    "N, dim = flipped_predictors.shape\n",
    "\n",
    "# Gaussian Prior\n",
    "my_prior_covariance = 25 * jnp.identity(dim)\n",
    "my_prior_covariance = my_prior_covariance.at[0, 0].set(400)\n",
    "my_prior_log_density = NormalDistribution(jnp.zeros(dim), my_prior_covariance).log_density\n",
    "tgt_log_density = jax.vmap(get_tgt_log_density(flipped_predictors, my_prior_log_density))\n",
    "\n",
    "PKLs = []\n",
    "PKL_titles = []\n",
    "for file in os.listdir(\"./\"):\n",
    "    if file.endswith(\".pkl\"):\n",
    "        PKLs.append(pickle.load(open(file, \"rb\")))\n",
    "        PKL_titles.append(str(file))\n",
    "\n",
    "full_gaussian = GenericMeanFieldNormalDistribution(dimension=dim)\n",
    "mean_field_gaussian = GenericMeanFieldNormalDistribution(dimension=dim)\n",
    "\n",
    "PKLs = []\n",
    "PKL_titles = []\n",
    "for file in os.listdir(\"./\"):\n",
    "    if file.endswith(\".pkl\"):\n",
    "        PKLs.append(pickle.load(open(file, \"rb\")))\n",
    "        PKL_titles.append(str(file))\n",
    "lossesPKLs = []\n",
    "lossesPKL_titles = []\n",
    "for file in os.listdir(\"./losses/\"):\n",
    "    if file.endswith(\".pkl\"):\n",
    "        lossesPKLs.append(pickle.load(open(\"./losses/\"+file, \"rb\")))\n",
    "        lossesPKL_titles.append(str(file))\n"
   ]
  },
  {
   "cell_type": "code",
   "execution_count": 30,
   "id": "adb1ea86-6cbe-40d7-b211-67ba8e7c4f12",
   "metadata": {},
   "outputs": [
    {
     "data": {
      "text/plain": [
       "Array([268.47148073, 268.25708814, 267.97545897, ...,  16.83501111,\n",
       "        16.83646706,  16.84073595], dtype=float64)"
      ]
     },
     "execution_count": 30,
     "metadata": {},
     "output_type": "execute_result"
    }
   ],
   "source": [
    "lossesPKLs[0]"
   ]
  },
  {
   "cell_type": "code",
   "execution_count": 20,
   "id": "3d04127c-69ce-4d5a-8116-6f9c121c7692",
   "metadata": {},
   "outputs": [
    {
     "data": {
      "text/plain": [
       "[<matplotlib.lines.Line2D at 0x7f11d4991520>]"
      ]
     },
     "execution_count": 20,
     "metadata": {},
     "output_type": "execute_result"
    },
    {
     "data": {
      "image/png": "[encoded data removed]",
      "text/plain": [
       "<Figure size 640x480 with 1 Axes>"
      ]
     },
     "metadata": {},
     "output_type": "display_data"
    }
   ],
   "source": [
    "plt.plot(lossesPKLs[0])"
   ]
  },
  {
   "cell_type": "code",
   "execution_count": 24,
   "id": "2db3dcad-b817-4d99-93ba-8d50f00cfbaa",
   "metadata": {},
   "outputs": [
    {
     "data": {
      "text/plain": [
       "array([-1.56930975, -3.18470791, -0.62943212,  3.5999266 , -3.62098086,\n",
       "        0.59900699,  0.10761738,  2.52182846,  2.97393102, -3.14738373,\n",
       "        0.08685826, -2.59648879, -4.12931766,  0.33627312,  0.41888361,\n",
       "        0.59181747,  1.80905674,  1.61480864, -0.68080481, -0.37903398,\n",
       "       -1.26582191, -0.55058112, -1.36194551, -1.77650416, -2.05964697,\n",
       "        0.22549361,  0.93554544, -0.44429878,  0.11623802, -1.10793201,\n",
       "       -2.91805733,  6.16302339, -1.38081081, -1.99657117,  1.14294669,\n",
       "       -0.29598806,  2.75446119,  4.03134199, -1.30012138, -1.98387269,\n",
       "        3.78443138,  0.01399023,  0.05187797, -0.90542568, -1.37549337,\n",
       "       -3.62905259, -1.93198832, -0.15674151, -3.28603858, -4.24964849,\n",
       "        5.25418785, -1.83566528, -2.46604645, -1.27546949, -2.03728667,\n",
       "        0.70493676,  0.24909741,  1.18912885, -1.50346082, -0.80083148,\n",
       "       -0.500217  ])"
      ]
     },
     "execution_count": 24,
     "metadata": {},
     "output_type": "execute_result"
    }
   ],
   "source": [
    "PKLs[0]['mean']"
   ]
  },
  {
   "cell_type": "code",
   "execution_count": 29,
   "id": "177580a0-ecdf-4499-886c-97cf4b45c050",
   "metadata": {},
   "outputs": [
    {
     "data": {
      "text/plain": [
       "Array([0.11496067, 0.75038528, 0.75364547, 0.80369589, 0.91452865,\n",
       "       0.59768384, 0.54690798, 0.4781337 , 0.52143968, 0.62210529,\n",
       "       0.59438902, 0.67389831, 0.63207074, 0.65953026, 0.51191133,\n",
       "       0.43692965, 0.45131273, 0.42991001, 0.41524073, 0.37866479,\n",
       "       0.43777871, 0.49503433, 0.50878114, 0.56933879, 0.57163197,\n",
       "       0.54692715, 0.46444215, 0.43276959, 0.34849121, 0.42105987,\n",
       "       0.44892053, 0.45213911, 0.47045924, 0.44995866, 0.54926748,\n",
       "       0.61268555, 0.58330855, 0.52839231, 0.49330705, 0.54499037,\n",
       "       0.49023236, 0.53717319, 0.61967162, 0.56065386, 0.51715515,\n",
       "       0.76947861, 0.84275585, 0.80973488, 0.69302817, 0.70122173,\n",
       "       0.58787421, 0.94516774, 0.80773978, 0.60692334, 0.69434619,\n",
       "       0.48597739, 0.61793478, 0.47697887, 0.65132819, 0.55488082,\n",
       "       0.40907714], dtype=float64)"
      ]
     },
     "execution_count": 29,
     "metadata": {},
     "output_type": "execute_result"
    }
   ],
   "source": [
    "jnp.diag(PKLs[0]['cov'])"
   ]
  },
  {
   "cell_type": "code",
   "execution_count": null,
   "id": "8e06bfd033d5fc5f",
   "metadata": {},
   "outputs": [],
   "source": [
    "idx=0\n",
    "np.savetxt('loss_1e4_advi.csv', np.array([np.arange(1, 1+10000), lossesPKLs[idx]]).T, header='iteration,loss', delimiter=',')"
   ]
  },
  {
   "cell_type": "code",
   "execution_count": null,
   "id": "777aa7a6ca6c9e41",
   "metadata": {},
   "outputs": [],
   "source": [
    "idx=0\n",
    "np.savetxt('loss_1e4_advi_skip10.csv', np.array([np.arange(1, 1+1000), lossesPKLs[idx][::10]]).T, header='iteration,loss', delimiter=',')"
   ]
  }
 ],
 "metadata": {
  "kernelspec": {
   "display_name": "lsvi",
   "language": "python",
   "name": "lsvi"
  },
  "language_info": {
   "codemirror_mode": {
    "name": "ipython",
    "version": 3
   },
   "file_extension": ".py",
   "mimetype": "text/x-python",
   "name": "python",
   "nbconvert_exporter": "python",
   "pygments_lexer": "ipython3",
   "version": "3.12.4"
  }
 },
 "nbformat": 4,
 "nbformat_minor": 5
}
