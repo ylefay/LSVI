{
 "cells": [
  {
   "cell_type": "code",
   "id": "initial_id",
   "metadata": {
    "tags": [],
    "ExecuteTime": {
     "end_time": "2025-03-27T17:42:58.063187Z",
     "start_time": "2025-03-27T17:42:58.036524Z"
    }
   },
   "source": [
    "import os\n",
    "import pickle\n",
    "from variational.exponential_family import GenericMeanFieldNormalDistribution, NormalDistribution, MeanFieldNormalDistribution\n",
    "from experiments.logisticRegression.utils import get_tgt_log_density, get_dataset\n",
    "import jax.numpy as jnp\n",
    "import jax\n",
    "import matplotlib.pyplot as plt\n",
    "import numpy as np\n",
    "\n",
    "flipped_predictors = get_dataset(dataset=\"Sonar\")\n",
    "N, dim = flipped_predictors.shape\n",
    "\n",
    "# Gaussian Prior\n",
    "my_prior_covariance = 25 * jnp.identity(dim)\n",
    "my_prior_covariance = my_prior_covariance.at[0, 0].set(400)\n",
    "my_prior_log_density = NormalDistribution(jnp.zeros(dim), my_prior_covariance).log_density\n",
    "tgt_log_density = jax.vmap(get_tgt_log_density(flipped_predictors, my_prior_log_density), in_axes=(None, 0))\n",
    "\n",
    "PKLs = []\n",
    "PKL_titles = []\n",
    "for file in os.listdir(\"./\"):\n",
    "    if file.endswith(\".pkl\"):\n",
    "        PKLs.append(pickle.load(open(file, \"rb\")))\n",
    "        PKL_titles.append(str(file))\n",
    "\n",
    "full_gaussian = GenericMeanFieldNormalDistribution(dimension=dim)\n"
   ],
   "outputs": [],
   "execution_count": 9
  },
  {
   "cell_type": "code",
   "id": "d19408b2b174301d",
   "metadata": {
    "ExecuteTime": {
     "end_time": "2025-03-27T17:42:59.332259Z",
     "start_time": "2025-03-27T17:42:59.325678Z"
    }
   },
   "source": [
    "lossesPKLs = []\n",
    "lossesPKL_titles = []\n",
    "for file in os.listdir(\"./losses/\"):\n",
    "    if file.endswith(\".pkl\"):\n",
    "        lossesPKLs.append(pickle.load(open(\"./losses/\"+file, \"rb\")))\n",
    "        lossesPKL_titles.append(str(file))"
   ],
   "outputs": [],
   "execution_count": 10
  },
  {
   "cell_type": "code",
   "id": "5175c00de85e157b",
   "metadata": {
    "ExecuteTime": {
     "end_time": "2024-09-08T19:04:45.661918Z",
     "start_time": "2024-09-08T19:04:45.532007Z"
    }
   },
   "source": [
    "lossesPKL_titles"
   ],
   "outputs": [
    {
     "data": {
      "text/plain": [
       "['heuristic_gaussian_Nicolas_1000_100000_Seq1_[0 0]_loss_agarder.pkl',\n",
       " 'testpourlossasuppr_heuristic_gaussian_Nicolas_1000_10000_Seq1_[0 0]_loss.pkl',\n",
       " 'heuristic_gaussian_Nicolas_1000_10000_Seq1_[0 0]_loss.pkl',\n",
       " 'gaussianMeanField_Nicolas_1000_10000_Seq2_[0 4].pkl_loss.pkl']"
      ]
     },
     "execution_count": 3,
     "metadata": {},
     "output_type": "execute_result"
    }
   ],
   "execution_count": 3
  },
  {
   "metadata": {
    "ExecuteTime": {
     "end_time": "2025-03-27T17:43:26.447353Z",
     "start_time": "2025-03-27T17:43:26.241274Z"
    }
   },
   "cell_type": "code",
   "source": [
    "ecolors = [\"red\", \"red\", \"red\"]\n",
    "colors = [\"orange\", \"gray\", \"blue\", \"black\"]\n",
    "labels = [\"sch. 1 (without Alg. 4)\"]\n",
    "start = 50\n",
    "end = 1001\n",
    "for idx in range(1):\n",
    "    plt.errorbar(x=np.arange(start, end),y=lossesPKLs[idx][:,start:end].mean(axis=0), \n",
    "             yerr=lossesPKLs[idx][:,start:end].std(axis=0), ecolor=ecolors[idx], errorevery=10, color=colors[idx],\n",
    "                elinewidth=0.5, label=labels[idx])\n",
    "plt.xticks([50, 250, 500, 750, 1000])\n",
    "plt.xlabel(\"Iteration\")\n",
    "plt.ylabel(\"KL divergence\")\n",
    "plt.legend()\n",
    "plt.savefig(\"mean_std_sonar_mfg_starting_from_50.pdf\")"
   ],
   "id": "7a86133100ebf66a",
   "outputs": [
    {
     "data": {
      "text/plain": [
       "[<matplotlib.lines.Line2D at 0x70ad58b6f200>]"
      ]
     },
     "execution_count": 15,
     "metadata": {},
     "output_type": "execute_result"
    },
    {
     "data": {
      "text/plain": [
       "<Figure size 640x480 with 1 Axes>"
      ],
      "image/png": "[encoded data removed]"
     },
     "metadata": {},
     "output_type": "display_data"
    }
   ],
   "execution_count": 15
  },
  {
   "metadata": {},
   "cell_type": "code",
   "outputs": [],
   "execution_count": null,
   "source": [
    "np.savetxt('loss_1e3_1e3_heuristic_mfg_sonar.csv', np.array([np.arange(1, 1000+1), lossesPKLs[2][1:]]).T, delimiter=\",\")\n",
    "np.savetxt('loss_1e3_1e3_Seq2_mfg_sonar.csv', np.array([np.arange(1, 1000+1), lossesPKLs[-1][1:]]).T, delimiter=\",\")"
   ],
   "id": "7bdf838b0f12be8e"
  },
  {
   "metadata": {},
   "cell_type": "code",
   "outputs": [],
   "execution_count": null,
   "source": [
    "ecolors = [\"red\", \"red\", \"red\"]\n",
    "colors = [\"gray\", \"blue\", \"black\"]\n",
    "labels = [\"MF-LSVI, sch. 1 (without Alg. 4)\", \"MF-LSVI, sch. 2 (with Alg. 4)\", \"MF-LSVI, sch. 3 (with Alg. 4)\",]\n",
    "start = 50\n",
    "end = 1001\n",
    "for idx in range(1, 3):\n",
    "    plt.errorbar(x=np.arange(start, end)*1000/48842,y=lossesPKLs[idx][:,start:end].mean(axis=0), \n",
    "             yerr=lossesPKLs[idx][:,start:end].std(axis=0), ecolor=ecolors[idx], errorevery=10, color=colors[idx],\n",
    "                elinewidth=0.5, label=labels[idx])\n",
    "#plt.xticks([50, 250, 500, 750, 1000])\n",
    "plt.xlabel(\"Epochs (1000/49000 x It)\")\n",
    "plt.ylabel(\"KL divergence\")\n",
    "plt.legend()\n",
    "plt.savefig(\"mean_std_subsampling_mfg_starting_from_50.pdf\")"
   ],
   "id": "a2484558b197e366"
  }
 ],
 "metadata": {
  "kernelspec": {
   "display_name": "Python 3 (ipykernel)",
   "language": "python",
   "name": "python3"
  },
  "language_info": {
   "codemirror_mode": {
    "name": "ipython",
    "version": 3
   },
   "file_extension": ".py",
   "mimetype": "text/x-python",
   "name": "python",
   "nbconvert_exporter": "python",
   "pygments_lexer": "ipython3",
   "version": "3.12.4"
  }
 },
 "nbformat": 4,
 "nbformat_minor": 5
}
