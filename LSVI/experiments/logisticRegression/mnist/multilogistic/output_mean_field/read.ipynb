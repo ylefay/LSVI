{
 "cells": [
  {
   "cell_type": "code",
   "execution_count": null,
   "id": "initial_id",
   "metadata": {
    "collapsed": true
   },
   "outputs": [],
   "source": [
    "import os\n",
    "import pickle\n",
    "\n",
    "import jax\n",
    "import jax.numpy as jnp\n",
    "import matplotlib.pyplot as plt\n",
    "from experiments.logisticRegression.utils import multilogistic_get_tgt_log_density as get_tgt_log_density\n",
    "from experiments.logisticRegression.mnist.load_mnist import mnist_dataset_full\n",
    "from variational.exponential_family import GenericMeanFieldNormalDistribution, MeanFieldNormalDistribution\n",
    "\n",
    "predictors, labels = mnist_dataset_full(return_test=False, path_prefix=\"..\")\n",
    "K = labels.shape[1]\n",
    "N, dim = predictors.shape\n",
    "latent_dim = dim * K\n",
    "# Gaussian Prior\n",
    "my_prior_covariance = 25 * jnp.identity(latent_dim)\n",
    "# my_prior_covariance = my_prior_covariance.at[0, 0].set(400)\n",
    "my_prior_covariance = jnp.diag(my_prior_covariance)\n",
    "my_prior_log_density = MeanFieldNormalDistribution(jnp.zeros(latent_dim), my_prior_covariance).log_density\n",
    "tgt_log_density = get_tgt_log_density(predictors, labels, my_prior_log_density)\n",
    "\n",
    "# Mean Field Gaussian Variational Family\n",
    "my_variational_family = GenericMeanFieldNormalDistribution(dimension=latent_dim)\n",
    "\n",
    "PKLs = []\n",
    "PKL_titles = []\n",
    "for file in os.listdir(\"./\"):\n",
    "    if file.endswith(\".pkl\"):\n",
    "        PKLs.append(pickle.load(open(file, \"rb\")))\n",
    "        PKL_titles.append(str(file))\n",
    "\n",
    "full_gaussian = GenericMeanFieldNormalDistribution(dimension=latent_dim)\n",
    "\n",
    "lossesPKLs = []\n",
    "lossesPKL_titles = []\n",
    "for file in os.listdir(\"./losses/\"):\n",
    "    if file.endswith(\".pkl\"):\n",
    "        lossesPKLs.append(pickle.load(open(\"./losses/\" + file, \"rb\")))\n",
    "        lossesPKL_titles.append(str(file))"
   ]
  }
 ],
 "metadata": {
  "kernelspec": {
   "display_name": "Python 3",
   "language": "python",
   "name": "python3"
  },
  "language_info": {
   "codemirror_mode": {
    "name": "ipython",
    "version": 2
   },
   "file_extension": ".py",
   "mimetype": "text/x-python",
   "name": "python",
   "nbconvert_exporter": "python",
   "pygments_lexer": "ipython2",
   "version": "2.7.6"
  }
 },
 "nbformat": 4,
 "nbformat_minor": 5
}
