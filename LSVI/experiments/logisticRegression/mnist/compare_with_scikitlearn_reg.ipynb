{
 "cells": [
  {
   "cell_type": "code",
   "id": "initial_id",
   "metadata": {
    "collapsed": true,
    "ExecuteTime": {
     "end_time": "2025-03-28T10:30:12.928726Z",
     "start_time": "2025-03-28T10:30:07.833572Z"
    }
   },
   "source": [
    "import jax\n",
    "import jax.numpy as jnp\n",
    "from sklearn.linear_model import LogisticRegression\n",
    "import os\n",
    "import pickle\n",
    "from variational.exponential_family import GenericMeanFieldNormalDistribution, NormalDistribution, MeanFieldNormalDistribution\n",
    "from experiments.logisticRegression.mnist.load_mnist import mnist_dataset\n",
    "import matplotlib.pyplot as plt\n",
    "\n",
    "OUTPUT_PATH = \"./output_mean_field/\"\n",
    "OP_key = jax.random.PRNGKey(0)\n",
    "logreg = LogisticRegression(penalty=None, fit_intercept=False)\n",
    "jax.config.update(\"jax_enable_x64\", True)\n",
    "mnist_train, mnist_test = mnist_dataset(return_test=True, flip=False)\n",
    "flipped_predictors, response = mnist_train\n",
    "flipped_predictors_test, response_test = mnist_test\n",
    "N, dim = flipped_predictors.shape"
   ],
   "outputs": [],
   "execution_count": 188
  },
  {
   "metadata": {
    "ExecuteTime": {
     "end_time": "2025-03-28T10:30:12.943798Z",
     "start_time": "2025-03-28T10:30:12.934747Z"
    }
   },
   "cell_type": "code",
   "source": [
    "PKLs = []\n",
    "PKL_titles = []\n",
    "for file in os.listdir(OUTPUT_PATH):\n",
    "    if file.endswith(\".pkl\"):\n",
    "        PKLs.append(pickle.load(open(OUTPUT_PATH + \"/\"+ file, \"rb\")))\n",
    "        PKL_titles.append(str(file))\n",
    "\n",
    "full_gaussian = GenericMeanFieldNormalDistribution(dimension=dim)"
   ],
   "id": "7587c4d98731e81b",
   "outputs": [],
   "execution_count": 189
  },
  {
   "metadata": {
    "ExecuteTime": {
     "end_time": "2025-03-28T09:27:14.399002Z",
     "start_time": "2025-03-28T09:27:12.169066Z"
    }
   },
   "cell_type": "code",
   "source": [
    "logreg.fit(flipped_predictors, response)\n",
    "test_prediction = logreg.predict(flipped_predictors_test)\n",
    "jnp.sum(test_prediction != response_test) / len(response_test)"
   ],
   "id": "8146f773b7cf0dd1",
   "outputs": [
    {
     "data": {
      "text/plain": [
       "Array(0.01074719, dtype=float64)"
      ]
     },
     "execution_count": 5,
     "metadata": {},
     "output_type": "execute_result"
    }
   ],
   "execution_count": 5
  },
  {
   "metadata": {
    "ExecuteTime": {
     "end_time": "2025-03-28T09:27:28.304401Z",
     "start_time": "2025-03-28T09:27:28.237255Z"
    }
   },
   "cell_type": "code",
   "source": [
    "from sklearn.metrics import log_loss\n",
    "\n",
    "log_loss(response_test, logreg.predict_proba(flipped_predictors_test))\n",
    "log_loss(response, logreg.predict_proba(flipped_predictors))"
   ],
   "id": "79edf60aa846fb97",
   "outputs": [
    {
     "data": {
      "text/plain": [
       "0.0010100226273692804"
      ]
     },
     "execution_count": 6,
     "metadata": {},
     "output_type": "execute_result"
    }
   ],
   "execution_count": 6
  },
  {
   "metadata": {
    "ExecuteTime": {
     "end_time": "2025-03-28T10:30:37.133785Z",
     "start_time": "2025-03-28T10:30:37.113129Z"
    }
   },
   "cell_type": "code",
   "source": [
    "\"\"\"\n",
    "Computing the mean of the regression coefficients, for each repetitions, iterations\n",
    "Computing the rates of missclasification\n",
    "\"\"\"\n",
    "my_etas = PKLs[0]['res'][..., :-1]\n",
    "print(my_etas.shape)\n",
    "d = my_etas.shape[-1]\n",
    "shape = my_etas.shape\n",
    "my_etas = my_etas.reshape((-1, d))\n",
    "my_mean_betas = jax.vmap(full_gaussian.get_mean_cov)(my_etas)[0]\n",
    "\n",
    "def missclassification_over_test(betas):\n",
    "    u = (flipped_predictors_test@betas.T).T\n",
    "    classification = jax.vmap(lambda x: (x<0)*(-1.) + (x>0)*1.)(u)\n",
    "    rates = jnp.mean(classification != response_test, axis=-1)\n",
    "    print(rates)\n",
    "    rates = rates.reshape(shape[:-1])\n",
    "    return rates"
   ],
   "id": "be670a683e234334",
   "outputs": [
    {
     "name": "stdout",
     "output_type": "stream",
     "text": [
      "(501, 1568)\n"
     ]
    }
   ],
   "execution_count": 193
  },
  {
   "metadata": {
    "ExecuteTime": {
     "end_time": "2025-03-28T10:30:39.781899Z",
     "start_time": "2025-03-28T10:30:39.345586Z"
    }
   },
   "cell_type": "code",
   "source": [
    "rates_for_lsvi = missclassification_over_test(my_mean_betas).T\n",
    "#rates_blackjax = missclassification_over_test(PKLs[0]['states'][0].reshape((t, -1)))\n",
    "start = 1\n",
    "end = 5+1\n",
    "plt.errorbar(x=range(start, end), y=rates_for_lsvi[start:end].mean(axis=-1), yerr=rates_for_lsvi[start:end].std(axis=-1), label=\"MF-LVSI\", ecolor=\"red\", color=\"black\")\n",
    "plt.xlabel(\"Iteration\")\n",
    "plt.ylabel(\"Misclassification rate\")"
   ],
   "id": "1aa8e7a06bac3463",
   "outputs": [
    {
     "name": "stdout",
     "output_type": "stream",
     "text": [
      "[1.         0.03428864 0.02507677 0.03991812 0.05629478 0.05322415\n",
      " 0.03480041 0.03633572 0.01688843 0.01791197 0.01125896 0.01125896\n",
      " 0.01023541 0.01023541 0.01023541 0.01023541 0.01023541 0.00972364\n",
      " 0.00972364 0.00972364 0.00921187 0.00921187 0.00921187 0.00921187\n",
      " 0.0087001  0.0087001  0.0087001  0.00818833 0.00818833 0.00818833\n",
      " 0.00818833 0.00818833 0.00818833 0.00818833 0.00767656 0.00767656\n",
      " 0.00767656 0.00767656 0.00767656 0.00767656 0.00767656 0.00767656\n",
      " 0.00767656 0.00767656 0.00767656 0.00767656 0.00767656 0.00767656\n",
      " 0.00767656 0.00767656 0.00767656 0.00767656 0.00767656 0.00767656\n",
      " 0.00767656 0.00767656 0.00767656 0.00767656 0.00767656 0.00767656\n",
      " 0.00767656 0.00767656 0.00767656 0.00767656 0.00767656 0.00767656\n",
      " 0.00716479 0.00716479 0.00716479 0.00716479 0.00716479 0.00716479\n",
      " 0.00716479 0.00716479 0.00716479 0.00716479 0.00716479 0.00716479\n",
      " 0.00716479 0.00716479 0.00716479 0.00716479 0.00716479 0.00716479\n",
      " 0.00716479 0.00716479 0.00716479 0.00716479 0.00716479 0.00716479\n",
      " 0.00716479 0.00716479 0.00716479 0.00716479 0.00665302 0.00716479\n",
      " 0.00716479 0.00716479 0.00716479 0.00716479 0.00716479 0.00665302\n",
      " 0.00665302 0.00665302 0.00665302 0.00665302 0.00665302 0.00665302\n",
      " 0.00665302 0.00665302 0.00665302 0.00665302 0.00665302 0.00665302\n",
      " 0.00665302 0.00614125 0.00614125 0.00614125 0.00665302 0.00665302\n",
      " 0.00665302 0.00665302 0.00665302 0.00614125 0.00614125 0.00614125\n",
      " 0.00614125 0.00614125 0.00614125 0.00614125 0.00614125 0.00614125\n",
      " 0.00614125 0.00614125 0.00614125 0.00614125 0.00614125 0.00614125\n",
      " 0.00614125 0.00614125 0.00614125 0.00614125 0.00614125 0.00614125\n",
      " 0.00614125 0.00614125 0.00614125 0.00614125 0.00614125 0.00614125\n",
      " 0.00614125 0.00614125 0.00614125 0.00614125 0.00614125 0.00614125\n",
      " 0.00614125 0.00614125 0.00614125 0.00614125 0.00614125 0.00614125\n",
      " 0.00614125 0.00614125 0.00614125 0.00614125 0.00614125 0.00614125\n",
      " 0.00614125 0.00614125 0.00614125 0.00614125 0.00614125 0.00614125\n",
      " 0.00614125 0.00614125 0.00614125 0.00614125 0.00614125 0.00614125\n",
      " 0.00614125 0.00665302 0.00614125 0.00665302 0.00614125 0.00614125\n",
      " 0.00614125 0.00665302 0.00614125 0.00614125 0.00614125 0.00562948\n",
      " 0.00562948 0.00562948 0.00562948 0.00562948 0.00562948 0.00614125\n",
      " 0.00614125 0.00562948 0.00562948 0.00562948 0.00562948 0.00562948\n",
      " 0.00562948 0.00562948 0.00562948 0.00562948 0.00562948 0.00562948\n",
      " 0.00562948 0.00562948 0.00562948 0.00614125 0.00614125 0.00614125\n",
      " 0.00614125 0.00562948 0.00562948 0.00614125 0.00614125 0.00614125\n",
      " 0.00562948 0.00562948 0.00614125 0.00614125 0.00614125 0.00614125\n",
      " 0.00562948 0.00614125 0.00614125 0.00614125 0.00614125 0.00562948\n",
      " 0.00562948 0.00562948 0.00614125 0.00614125 0.00614125 0.00614125\n",
      " 0.00562948 0.00614125 0.00562948 0.00562948 0.00562948 0.00562948\n",
      " 0.00562948 0.00562948 0.00614125 0.00562948 0.00562948 0.00562948\n",
      " 0.00614125 0.00562948 0.00614125 0.00562948 0.00562948 0.00562948\n",
      " 0.00562948 0.00562948 0.00562948 0.00562948 0.00562948 0.00562948\n",
      " 0.00562948 0.00562948 0.00562948 0.00562948 0.00562948 0.00562948\n",
      " 0.00562948 0.00562948 0.00562948 0.00562948 0.00562948 0.00562948\n",
      " 0.00562948 0.00562948 0.00562948 0.00562948 0.00562948 0.00562948\n",
      " 0.00562948 0.00562948 0.00562948 0.00562948 0.00562948 0.00562948\n",
      " 0.00562948 0.00614125 0.00614125 0.00614125 0.00614125 0.00562948\n",
      " 0.00562948 0.00562948 0.00562948 0.00614125 0.00562948 0.00562948\n",
      " 0.00562948 0.00562948 0.00562948 0.00614125 0.00614125 0.00614125\n",
      " 0.00614125 0.00614125 0.00614125 0.00614125 0.00614125 0.00614125\n",
      " 0.00614125 0.00614125 0.00614125 0.00614125 0.00614125 0.00614125\n",
      " 0.00614125 0.00614125 0.00614125 0.00614125 0.00614125 0.00614125\n",
      " 0.00614125 0.00614125 0.00614125 0.00614125 0.00614125 0.00614125\n",
      " 0.00614125 0.00614125 0.00614125 0.00614125 0.00614125 0.00614125\n",
      " 0.00614125 0.00614125 0.00614125 0.00614125 0.00614125 0.00614125\n",
      " 0.00614125 0.00614125 0.00614125 0.00614125 0.00614125 0.00614125\n",
      " 0.00614125 0.00614125 0.00614125 0.00614125 0.00614125 0.00614125\n",
      " 0.00614125 0.00614125 0.00614125 0.00614125 0.00614125 0.00614125\n",
      " 0.00614125 0.00614125 0.00614125 0.00614125 0.00614125 0.00665302\n",
      " 0.00665302 0.00665302 0.00665302 0.00665302 0.00665302 0.00665302\n",
      " 0.00665302 0.00665302 0.00665302 0.00665302 0.00665302 0.00665302\n",
      " 0.00665302 0.00665302 0.00665302 0.00665302 0.00716479 0.00665302\n",
      " 0.00665302 0.00665302 0.00716479 0.00665302 0.00665302 0.00665302\n",
      " 0.00665302 0.00716479 0.00716479 0.00716479 0.00716479 0.00716479\n",
      " 0.00716479 0.00716479 0.00665302 0.00665302 0.00665302 0.00665302\n",
      " 0.00665302 0.00665302 0.00665302 0.00665302 0.00665302 0.00665302\n",
      " 0.00665302 0.00665302 0.00665302 0.00665302 0.00665302 0.00665302\n",
      " 0.00665302 0.00665302 0.00665302 0.00716479 0.00716479 0.00716479\n",
      " 0.00716479 0.00716479 0.00716479 0.00716479 0.00716479 0.00716479\n",
      " 0.00716479 0.00716479 0.00716479 0.00716479 0.00716479 0.00716479\n",
      " 0.00665302 0.00665302 0.00665302 0.00716479 0.00665302 0.00716479\n",
      " 0.00716479 0.00665302 0.00665302 0.00716479 0.00716479 0.00716479\n",
      " 0.00716479 0.00716479 0.00716479 0.00716479 0.00716479 0.00665302\n",
      " 0.00665302 0.00665302 0.00665302 0.00665302 0.00665302 0.00665302\n",
      " 0.00665302 0.00665302 0.00665302 0.00665302 0.00665302 0.00665302\n",
      " 0.00665302 0.00665302 0.00665302 0.00665302 0.00665302 0.00665302\n",
      " 0.00665302 0.00665302 0.00665302 0.00665302 0.00665302 0.00665302\n",
      " 0.00665302 0.00665302 0.00665302 0.00665302 0.00665302 0.00665302\n",
      " 0.00665302 0.00665302 0.00665302 0.00665302 0.00665302 0.00665302\n",
      " 0.00665302 0.00665302 0.00665302 0.00665302 0.00665302 0.00665302\n",
      " 0.00665302 0.00665302 0.00665302 0.00665302 0.00665302 0.00665302\n",
      " 0.00665302 0.00665302 0.00665302]\n"
     ]
    },
    {
     "ename": "ValueError",
     "evalue": "'x' and 'y' must have the same size",
     "output_type": "error",
     "traceback": [
      "\u001B[0;31m---------------------------------------------------------------------------\u001B[0m",
      "\u001B[0;31mValueError\u001B[0m                                Traceback (most recent call last)",
      "Cell \u001B[0;32mIn[194], line 5\u001B[0m\n\u001B[1;32m      3\u001B[0m start \u001B[38;5;241m=\u001B[39m \u001B[38;5;241m1\u001B[39m\n\u001B[1;32m      4\u001B[0m end \u001B[38;5;241m=\u001B[39m \u001B[38;5;241m5\u001B[39m\u001B[38;5;241m+\u001B[39m\u001B[38;5;241m1\u001B[39m\n\u001B[0;32m----> 5\u001B[0m plt\u001B[38;5;241m.\u001B[39merrorbar(x\u001B[38;5;241m=\u001B[39m\u001B[38;5;28mrange\u001B[39m(start, end), y\u001B[38;5;241m=\u001B[39mrates_for_lsvi[start:end]\u001B[38;5;241m.\u001B[39mmean(axis\u001B[38;5;241m=\u001B[39m\u001B[38;5;241m-\u001B[39m\u001B[38;5;241m1\u001B[39m), yerr\u001B[38;5;241m=\u001B[39mrates_for_lsvi[start:end]\u001B[38;5;241m.\u001B[39mstd(axis\u001B[38;5;241m=\u001B[39m\u001B[38;5;241m-\u001B[39m\u001B[38;5;241m1\u001B[39m), label\u001B[38;5;241m=\u001B[39m\u001B[38;5;124m\"\u001B[39m\u001B[38;5;124mMF-LVSI\u001B[39m\u001B[38;5;124m\"\u001B[39m, ecolor\u001B[38;5;241m=\u001B[39m\u001B[38;5;124m\"\u001B[39m\u001B[38;5;124mred\u001B[39m\u001B[38;5;124m\"\u001B[39m, color\u001B[38;5;241m=\u001B[39m\u001B[38;5;124m\"\u001B[39m\u001B[38;5;124mblack\u001B[39m\u001B[38;5;124m\"\u001B[39m)\n\u001B[1;32m      6\u001B[0m plt\u001B[38;5;241m.\u001B[39mxlabel(\u001B[38;5;124m\"\u001B[39m\u001B[38;5;124mIteration\u001B[39m\u001B[38;5;124m\"\u001B[39m)\n\u001B[1;32m      7\u001B[0m plt\u001B[38;5;241m.\u001B[39mylabel(\u001B[38;5;124m\"\u001B[39m\u001B[38;5;124mMisclassification rate\u001B[39m\u001B[38;5;124m\"\u001B[39m)\n",
      "File \u001B[0;32m~/.conda/envs/lsvi/lib/python3.12/site-packages/matplotlib/_api/deprecation.py:453\u001B[0m, in \u001B[0;36mmake_keyword_only.<locals>.wrapper\u001B[0;34m(*args, **kwargs)\u001B[0m\n\u001B[1;32m    447\u001B[0m \u001B[38;5;28;01mif\u001B[39;00m \u001B[38;5;28mlen\u001B[39m(args) \u001B[38;5;241m>\u001B[39m name_idx:\n\u001B[1;32m    448\u001B[0m     warn_deprecated(\n\u001B[1;32m    449\u001B[0m         since, message\u001B[38;5;241m=\u001B[39m\u001B[38;5;124m\"\u001B[39m\u001B[38;5;124mPassing the \u001B[39m\u001B[38;5;132;01m%(name)s\u001B[39;00m\u001B[38;5;124m \u001B[39m\u001B[38;5;132;01m%(obj_type)s\u001B[39;00m\u001B[38;5;124m \u001B[39m\u001B[38;5;124m\"\u001B[39m\n\u001B[1;32m    450\u001B[0m         \u001B[38;5;124m\"\u001B[39m\u001B[38;5;124mpositionally is deprecated since Matplotlib \u001B[39m\u001B[38;5;132;01m%(since)s\u001B[39;00m\u001B[38;5;124m; the \u001B[39m\u001B[38;5;124m\"\u001B[39m\n\u001B[1;32m    451\u001B[0m         \u001B[38;5;124m\"\u001B[39m\u001B[38;5;124mparameter will become keyword-only in \u001B[39m\u001B[38;5;132;01m%(removal)s\u001B[39;00m\u001B[38;5;124m.\u001B[39m\u001B[38;5;124m\"\u001B[39m,\n\u001B[1;32m    452\u001B[0m         name\u001B[38;5;241m=\u001B[39mname, obj_type\u001B[38;5;241m=\u001B[39m\u001B[38;5;124mf\u001B[39m\u001B[38;5;124m\"\u001B[39m\u001B[38;5;124mparameter of \u001B[39m\u001B[38;5;132;01m{\u001B[39;00mfunc\u001B[38;5;241m.\u001B[39m\u001B[38;5;18m__name__\u001B[39m\u001B[38;5;132;01m}\u001B[39;00m\u001B[38;5;124m()\u001B[39m\u001B[38;5;124m\"\u001B[39m)\n\u001B[0;32m--> 453\u001B[0m \u001B[38;5;28;01mreturn\u001B[39;00m func(\u001B[38;5;241m*\u001B[39margs, \u001B[38;5;241m*\u001B[39m\u001B[38;5;241m*\u001B[39mkwargs)\n",
      "File \u001B[0;32m~/.conda/envs/lsvi/lib/python3.12/site-packages/matplotlib/pyplot.py:3271\u001B[0m, in \u001B[0;36merrorbar\u001B[0;34m(x, y, yerr, xerr, fmt, ecolor, elinewidth, capsize, barsabove, lolims, uplims, xlolims, xuplims, errorevery, capthick, data, **kwargs)\u001B[0m\n\u001B[1;32m   3250\u001B[0m \u001B[38;5;129m@_copy_docstring_and_deprecators\u001B[39m(Axes\u001B[38;5;241m.\u001B[39merrorbar)\n\u001B[1;32m   3251\u001B[0m \u001B[38;5;28;01mdef\u001B[39;00m \u001B[38;5;21merrorbar\u001B[39m(\n\u001B[1;32m   3252\u001B[0m     x: \u001B[38;5;28mfloat\u001B[39m \u001B[38;5;241m|\u001B[39m ArrayLike,\n\u001B[0;32m   (...)\u001B[0m\n\u001B[1;32m   3269\u001B[0m     \u001B[38;5;241m*\u001B[39m\u001B[38;5;241m*\u001B[39mkwargs,\n\u001B[1;32m   3270\u001B[0m ) \u001B[38;5;241m-\u001B[39m\u001B[38;5;241m>\u001B[39m ErrorbarContainer:\n\u001B[0;32m-> 3271\u001B[0m     \u001B[38;5;28;01mreturn\u001B[39;00m gca()\u001B[38;5;241m.\u001B[39merrorbar(\n\u001B[1;32m   3272\u001B[0m         x,\n\u001B[1;32m   3273\u001B[0m         y,\n\u001B[1;32m   3274\u001B[0m         yerr\u001B[38;5;241m=\u001B[39myerr,\n\u001B[1;32m   3275\u001B[0m         xerr\u001B[38;5;241m=\u001B[39mxerr,\n\u001B[1;32m   3276\u001B[0m         fmt\u001B[38;5;241m=\u001B[39mfmt,\n\u001B[1;32m   3277\u001B[0m         ecolor\u001B[38;5;241m=\u001B[39mecolor,\n\u001B[1;32m   3278\u001B[0m         elinewidth\u001B[38;5;241m=\u001B[39melinewidth,\n\u001B[1;32m   3279\u001B[0m         capsize\u001B[38;5;241m=\u001B[39mcapsize,\n\u001B[1;32m   3280\u001B[0m         barsabove\u001B[38;5;241m=\u001B[39mbarsabove,\n\u001B[1;32m   3281\u001B[0m         lolims\u001B[38;5;241m=\u001B[39mlolims,\n\u001B[1;32m   3282\u001B[0m         uplims\u001B[38;5;241m=\u001B[39muplims,\n\u001B[1;32m   3283\u001B[0m         xlolims\u001B[38;5;241m=\u001B[39mxlolims,\n\u001B[1;32m   3284\u001B[0m         xuplims\u001B[38;5;241m=\u001B[39mxuplims,\n\u001B[1;32m   3285\u001B[0m         errorevery\u001B[38;5;241m=\u001B[39merrorevery,\n\u001B[1;32m   3286\u001B[0m         capthick\u001B[38;5;241m=\u001B[39mcapthick,\n\u001B[1;32m   3287\u001B[0m         \u001B[38;5;241m*\u001B[39m\u001B[38;5;241m*\u001B[39m({\u001B[38;5;124m\"\u001B[39m\u001B[38;5;124mdata\u001B[39m\u001B[38;5;124m\"\u001B[39m: data} \u001B[38;5;28;01mif\u001B[39;00m data \u001B[38;5;129;01mis\u001B[39;00m \u001B[38;5;129;01mnot\u001B[39;00m \u001B[38;5;28;01mNone\u001B[39;00m \u001B[38;5;28;01melse\u001B[39;00m {}),\n\u001B[1;32m   3288\u001B[0m         \u001B[38;5;241m*\u001B[39m\u001B[38;5;241m*\u001B[39mkwargs,\n\u001B[1;32m   3289\u001B[0m     )\n",
      "File \u001B[0;32m~/.conda/envs/lsvi/lib/python3.12/site-packages/matplotlib/_api/deprecation.py:453\u001B[0m, in \u001B[0;36mmake_keyword_only.<locals>.wrapper\u001B[0;34m(*args, **kwargs)\u001B[0m\n\u001B[1;32m    447\u001B[0m \u001B[38;5;28;01mif\u001B[39;00m \u001B[38;5;28mlen\u001B[39m(args) \u001B[38;5;241m>\u001B[39m name_idx:\n\u001B[1;32m    448\u001B[0m     warn_deprecated(\n\u001B[1;32m    449\u001B[0m         since, message\u001B[38;5;241m=\u001B[39m\u001B[38;5;124m\"\u001B[39m\u001B[38;5;124mPassing the \u001B[39m\u001B[38;5;132;01m%(name)s\u001B[39;00m\u001B[38;5;124m \u001B[39m\u001B[38;5;132;01m%(obj_type)s\u001B[39;00m\u001B[38;5;124m \u001B[39m\u001B[38;5;124m\"\u001B[39m\n\u001B[1;32m    450\u001B[0m         \u001B[38;5;124m\"\u001B[39m\u001B[38;5;124mpositionally is deprecated since Matplotlib \u001B[39m\u001B[38;5;132;01m%(since)s\u001B[39;00m\u001B[38;5;124m; the \u001B[39m\u001B[38;5;124m\"\u001B[39m\n\u001B[1;32m    451\u001B[0m         \u001B[38;5;124m\"\u001B[39m\u001B[38;5;124mparameter will become keyword-only in \u001B[39m\u001B[38;5;132;01m%(removal)s\u001B[39;00m\u001B[38;5;124m.\u001B[39m\u001B[38;5;124m\"\u001B[39m,\n\u001B[1;32m    452\u001B[0m         name\u001B[38;5;241m=\u001B[39mname, obj_type\u001B[38;5;241m=\u001B[39m\u001B[38;5;124mf\u001B[39m\u001B[38;5;124m\"\u001B[39m\u001B[38;5;124mparameter of \u001B[39m\u001B[38;5;132;01m{\u001B[39;00mfunc\u001B[38;5;241m.\u001B[39m\u001B[38;5;18m__name__\u001B[39m\u001B[38;5;132;01m}\u001B[39;00m\u001B[38;5;124m()\u001B[39m\u001B[38;5;124m\"\u001B[39m)\n\u001B[0;32m--> 453\u001B[0m \u001B[38;5;28;01mreturn\u001B[39;00m func(\u001B[38;5;241m*\u001B[39margs, \u001B[38;5;241m*\u001B[39m\u001B[38;5;241m*\u001B[39mkwargs)\n",
      "File \u001B[0;32m~/.conda/envs/lsvi/lib/python3.12/site-packages/matplotlib/__init__.py:1521\u001B[0m, in \u001B[0;36m_preprocess_data.<locals>.inner\u001B[0;34m(ax, data, *args, **kwargs)\u001B[0m\n\u001B[1;32m   1518\u001B[0m \u001B[38;5;129m@functools\u001B[39m\u001B[38;5;241m.\u001B[39mwraps(func)\n\u001B[1;32m   1519\u001B[0m \u001B[38;5;28;01mdef\u001B[39;00m \u001B[38;5;21minner\u001B[39m(ax, \u001B[38;5;241m*\u001B[39margs, data\u001B[38;5;241m=\u001B[39m\u001B[38;5;28;01mNone\u001B[39;00m, \u001B[38;5;241m*\u001B[39m\u001B[38;5;241m*\u001B[39mkwargs):\n\u001B[1;32m   1520\u001B[0m     \u001B[38;5;28;01mif\u001B[39;00m data \u001B[38;5;129;01mis\u001B[39;00m \u001B[38;5;28;01mNone\u001B[39;00m:\n\u001B[0;32m-> 1521\u001B[0m         \u001B[38;5;28;01mreturn\u001B[39;00m func(\n\u001B[1;32m   1522\u001B[0m             ax,\n\u001B[1;32m   1523\u001B[0m             \u001B[38;5;241m*\u001B[39m\u001B[38;5;28mmap\u001B[39m(cbook\u001B[38;5;241m.\u001B[39msanitize_sequence, args),\n\u001B[1;32m   1524\u001B[0m             \u001B[38;5;241m*\u001B[39m\u001B[38;5;241m*\u001B[39m{k: cbook\u001B[38;5;241m.\u001B[39msanitize_sequence(v) \u001B[38;5;28;01mfor\u001B[39;00m k, v \u001B[38;5;129;01min\u001B[39;00m kwargs\u001B[38;5;241m.\u001B[39mitems()})\n\u001B[1;32m   1526\u001B[0m     bound \u001B[38;5;241m=\u001B[39m new_sig\u001B[38;5;241m.\u001B[39mbind(ax, \u001B[38;5;241m*\u001B[39margs, \u001B[38;5;241m*\u001B[39m\u001B[38;5;241m*\u001B[39mkwargs)\n\u001B[1;32m   1527\u001B[0m     auto_label \u001B[38;5;241m=\u001B[39m (bound\u001B[38;5;241m.\u001B[39marguments\u001B[38;5;241m.\u001B[39mget(label_namer)\n\u001B[1;32m   1528\u001B[0m                   \u001B[38;5;129;01mor\u001B[39;00m bound\u001B[38;5;241m.\u001B[39mkwargs\u001B[38;5;241m.\u001B[39mget(label_namer))\n",
      "File \u001B[0;32m~/.conda/envs/lsvi/lib/python3.12/site-packages/matplotlib/axes/_axes.py:3709\u001B[0m, in \u001B[0;36mAxes.errorbar\u001B[0;34m(self, x, y, yerr, xerr, fmt, ecolor, elinewidth, capsize, barsabove, lolims, uplims, xlolims, xuplims, errorevery, capthick, **kwargs)\u001B[0m\n\u001B[1;32m   3707\u001B[0m x, y \u001B[38;5;241m=\u001B[39m np\u001B[38;5;241m.\u001B[39matleast_1d(x, y)  \u001B[38;5;66;03m# Make sure all the args are iterable.\u001B[39;00m\n\u001B[1;32m   3708\u001B[0m \u001B[38;5;28;01mif\u001B[39;00m \u001B[38;5;28mlen\u001B[39m(x) \u001B[38;5;241m!=\u001B[39m \u001B[38;5;28mlen\u001B[39m(y):\n\u001B[0;32m-> 3709\u001B[0m     \u001B[38;5;28;01mraise\u001B[39;00m \u001B[38;5;167;01mValueError\u001B[39;00m(\u001B[38;5;124m\"\u001B[39m\u001B[38;5;124m'\u001B[39m\u001B[38;5;124mx\u001B[39m\u001B[38;5;124m'\u001B[39m\u001B[38;5;124m and \u001B[39m\u001B[38;5;124m'\u001B[39m\u001B[38;5;124my\u001B[39m\u001B[38;5;124m'\u001B[39m\u001B[38;5;124m must have the same size\u001B[39m\u001B[38;5;124m\"\u001B[39m)\n\u001B[1;32m   3711\u001B[0m everymask \u001B[38;5;241m=\u001B[39m \u001B[38;5;28mself\u001B[39m\u001B[38;5;241m.\u001B[39m_errorevery_to_mask(x, errorevery)\n\u001B[1;32m   3713\u001B[0m label \u001B[38;5;241m=\u001B[39m kwargs\u001B[38;5;241m.\u001B[39mpop(\u001B[38;5;124m\"\u001B[39m\u001B[38;5;124mlabel\u001B[39m\u001B[38;5;124m\"\u001B[39m, \u001B[38;5;28;01mNone\u001B[39;00m)\n",
      "\u001B[0;31mValueError\u001B[0m: 'x' and 'y' must have the same size"
     ]
    },
    {
     "data": {
      "text/plain": [
       "<Figure size 640x480 with 1 Axes>"
      ],
      "image/png": "[encoded data removed]"
     },
     "metadata": {},
     "output_type": "display_data"
    }
   ],
   "execution_count": 194
  },
  {
   "metadata": {
    "ExecuteTime": {
     "end_time": "2025-03-28T10:30:47.026522Z",
     "start_time": "2025-03-28T10:30:47.021069Z"
    }
   },
   "cell_type": "code",
   "source": "rates_for_lsvi.shape",
   "id": "5b0334e1d5848b8f",
   "outputs": [
    {
     "data": {
      "text/plain": [
       "(501,)"
      ]
     },
     "execution_count": 195,
     "metadata": {},
     "output_type": "execute_result"
    }
   ],
   "execution_count": 195
  },
  {
   "metadata": {
    "ExecuteTime": {
     "end_time": "2025-03-28T10:31:04.133166Z",
     "start_time": "2025-03-28T10:31:03.944367Z"
    }
   },
   "cell_type": "code",
   "source": "plt.plot(rates_for_lsvi)",
   "id": "d4e5e95302e952b8",
   "outputs": [
    {
     "data": {
      "text/plain": [
       "[<matplotlib.lines.Line2D at 0x743a90ec0860>]"
      ]
     },
     "execution_count": 196,
     "metadata": {},
     "output_type": "execute_result"
    },
    {
     "data": {
      "text/plain": [
       "<Figure size 640x480 with 1 Axes>"
      ],
      "image/png": "[encoded data removed]"
     },
     "metadata": {},
     "output_type": "display_data"
    }
   ],
   "execution_count": 196
  },
  {
   "metadata": {},
   "cell_type": "code",
   "outputs": [],
   "execution_count": null,
   "source": "",
   "id": "ebabf0ca9f5e03ff"
  }
 ],
 "metadata": {
  "kernelspec": {
   "display_name": "Python 3",
   "language": "python",
   "name": "python3"
  },
  "language_info": {
   "codemirror_mode": {
    "name": "ipython",
    "version": 2
   },
   "file_extension": ".py",
   "mimetype": "text/x-python",
   "name": "python",
   "nbconvert_exporter": "python",
   "pygments_lexer": "ipython2",
   "version": "2.7.6"
  }
 },
 "nbformat": 4,
 "nbformat_minor": 5
}
