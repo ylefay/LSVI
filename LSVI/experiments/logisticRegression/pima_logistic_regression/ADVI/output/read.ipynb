{
 "cells": [
  {
   "cell_type": "code",
   "id": "initial_id",
   "metadata": {
    "collapsed": true,
    "jupyter": {
     "outputs_hidden": true
    },
    "ExecuteTime": {
     "end_time": "2024-10-12T09:07:39.734807Z",
     "start_time": "2024-10-12T09:07:39.713210Z"
    }
   },
   "source": [
    "import os\n",
    "import pickle\n",
    "\n",
    "import jax\n",
    "from variational.exponential_family import GenericNormalDistribution, GenericMeanFieldNormalDistribution\n",
    "import numpy as np\n",
    "\n",
    "jax.config.update(\"jax_enable_x64\", True)\n",
    "\n",
    "full_gaussian = GenericNormalDistribution(dimension=9)\n",
    "mean_field_gaussian = GenericMeanFieldNormalDistribution(dimension=9)\n",
    "\n",
    "PKLs = []\n",
    "PKL_titles = []\n",
    "for file in os.listdir(\"./\"):\n",
    "    if file.endswith(\".pkl\"):\n",
    "        PKLs.append(pickle.load(open(file, \"rb\")))\n",
    "        PKL_titles.append(str(file))\n",
    "lossesPKLs = []\n",
    "lossesPKL_titles = []\n",
    "for file in os.listdir(\"./losses/\"):\n",
    "    if file.endswith(\".pkl\"):\n",
    "        lossesPKLs.append(pickle.load(open(\"./losses/\"+file, \"rb\")))\n",
    "        lossesPKL_titles.append(str(file))\n"
   ],
   "outputs": [],
   "execution_count": 2
  },
  {
   "cell_type": "code",
   "id": "8e06bfd033d5fc5f",
   "metadata": {
    "ExecuteTime": {
     "end_time": "2024-10-12T09:08:38.491407Z",
     "start_time": "2024-10-12T09:08:38.429323Z"
    }
   },
   "source": [
    "idx=0\n",
    "np.savetxt('loss_1e4_advi.csv', np.array([np.arange(1, 1+10000), lossesPKLs[idx]]).T, header='iteration,loss', delimiter=',')"
   ],
   "outputs": [],
   "execution_count": 3
  },
  {
   "metadata": {
    "ExecuteTime": {
     "end_time": "2024-10-12T09:11:46.250664Z",
     "start_time": "2024-10-12T09:11:46.235970Z"
    }
   },
   "cell_type": "code",
   "source": [
    "idx=0\n",
    "np.savetxt('loss_1e4_advi_trimmed_1e2.csv', np.array([np.arange(1, 1+100), lossesPKLs[idx][:100]]).T, header='iteration,loss', delimiter=',')"
   ],
   "id": "a31f1da1e1a15955",
   "outputs": [],
   "execution_count": 7
  },
  {
   "cell_type": "code",
   "execution_count": null,
   "id": "777aa7a6ca6c9e41",
   "metadata": {},
   "outputs": [],
   "source": [
    "idx=0\n",
    "np.savetxt('loss_1e4_advi_skip10.csv', np.array([np.arange(1, 1+1000), lossesPKLs[idx][::10]]).T, header='iteration,loss', delimiter=',')"
   ]
  }
 ],
 "metadata": {
  "kernelspec": {
   "display_name": "Python 3 (ipykernel)",
   "language": "python",
   "name": "python3"
  },
  "language_info": {
   "codemirror_mode": {
    "name": "ipython",
    "version": 3
   },
   "file_extension": ".py",
   "mimetype": "text/x-python",
   "name": "python",
   "nbconvert_exporter": "python",
   "pygments_lexer": "ipython3",
   "version": "3.8.10"
  }
 },
 "nbformat": 4,
 "nbformat_minor": 5
}
