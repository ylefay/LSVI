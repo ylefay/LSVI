{
 "cells": [
  {
   "cell_type": "code",
   "id": "initial_id",
   "metadata": {
    "collapsed": true,
    "ExecuteTime": {
     "end_time": "2024-08-26T16:27:01.464848Z",
     "start_time": "2024-08-26T16:27:01.315673Z"
    }
   },
   "source": [
    "import os\n",
    "import pickle\n",
    "from variational.exponential_family import GenericBernoulliDistributionNumpy as GenericBernoulliDistribution\n",
    "from experiments.bayesianSelectionVariable.utils import get_tgt_log_density\n",
    "import pandas as pd\n",
    "import numpy as np\n",
    "\n",
    "PKLs = []\n",
    "for file in os.listdir(\"./\"):\n",
    "    if file.endswith(\".pkl\"):\n",
    "        PKLs.append(pickle.load(open(file, \"rb\")))\n",
    "\n",
    "bernoulli = GenericBernoulliDistribution(dimension=92)\n",
    "\n",
    "data = pd.read_csv('../concrete_from_particles.csv', header=None, delimiter=\",\")\n",
    "obs = np.array(data.iloc[:, 0].to_numpy())\n",
    "reg = np.array(data.iloc[:, 1:].to_numpy())\n",
    "dim = reg.shape[1]\n",
    "tgt_log_density = get_tgt_log_density(reg, obs)\n"
   ],
   "execution_count": 23,
   "outputs": []
  },
  {
   "metadata": {
    "ExecuteTime": {
     "end_time": "2024-08-26T16:21:17.803538Z",
     "start_time": "2024-08-26T16:21:17.634859Z"
    }
   },
   "cell_type": "code",
   "source": [
    "max_probas = np.max([np.mean(PKLs[0][i]['output'].X.theta,axis=0) for i in range(3)], axis=0)\n",
    "min_probas = np.min([np.mean(PKLs[0][i]['output'].X.theta,axis=0) for i in range(3)], axis=0)\n",
    "mean_probas = np.mean([np.mean(PKLs[0][i]['output'].X.theta,axis=0) for i in range(3)], axis=0)\n",
    "np.savetxt('min_probs.csv', min_probas)\n",
    "np.savetxt('max_probs.csv', max_probas)\n",
    "np.savetxt('mean_probs.csv', mean_probas)"
   ],
   "id": "bac97ee04b966da1",
   "execution_count": 6,
   "outputs": []
  },
  {
   "metadata": {
    "ExecuteTime": {
     "end_time": "2024-08-26T16:22:51.442936Z",
     "start_time": "2024-08-26T16:22:51.428082Z"
    }
   },
   "cell_type": "code",
   "source": "mean_probas",
   "id": "6b1b12c8f2a6d1e0",
   "execution_count": 11,
   "outputs": []
  },
  {
   "metadata": {
    "ExecuteTime": {
     "end_time": "2024-08-26T16:27:05.209066Z",
     "start_time": "2024-08-26T16:27:04.585100Z"
    }
   },
   "cell_type": "code",
   "source": [
    "theta = bernoulli.get_theta(mean_probas)\n",
    "my_sampled_models=bernoulli.sampling_method_numpy(theta, 1000)\n",
    "plt.hist(tgt_log_density(my_sampled_models), bins=100)"
   ],
   "id": "f2598da27eb0d44e",
   "execution_count": 24,
   "outputs": []
  },
  {
   "metadata": {
    "ExecuteTime": {
     "end_time": "2024-08-26T16:27:23.618386Z",
     "start_time": "2024-08-26T16:27:23.608450Z"
    }
   },
   "cell_type": "code",
   "source": "np.sum(bernoulli.get_p(theta)-mean_probas)",
   "id": "504c9ae701db6712",
   "execution_count": 25,
   "outputs": []
  },
  {
   "metadata": {
    "ExecuteTime": {
     "end_time": "2024-08-26T16:27:34.176513Z",
     "start_time": "2024-08-26T16:27:34.157834Z"
    }
   },
   "cell_type": "code",
   "source": "mean_probas",
   "id": "4a51a168d9cbcfe7",
   "execution_count": 26,
   "outputs": []
  },
  {
   "metadata": {},
   "cell_type": "code",
   "execution_count": null,
   "source": "",
   "id": "b07125d8c4ba6310",
   "outputs": []
  }
 ],
 "metadata": {
  "kernelspec": {
   "display_name": "Python 3",
   "language": "python",
   "name": "python3"
  },
  "language_info": {
   "codemirror_mode": {
    "name": "ipython",
    "version": 2
   },
   "file_extension": ".py",
   "mimetype": "text/x-python",
   "name": "python",
   "nbconvert_exporter": "python",
   "pygments_lexer": "ipython2",
   "version": "2.7.6"
  }
 },
 "nbformat": 4,
 "nbformat_minor": 5
}
