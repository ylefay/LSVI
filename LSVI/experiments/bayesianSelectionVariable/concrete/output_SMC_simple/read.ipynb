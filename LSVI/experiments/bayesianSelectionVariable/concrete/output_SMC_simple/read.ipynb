{
 "cells": [
  {
   "cell_type": "code",
   "id": "initial_id",
   "metadata": {
    "collapsed": true,
    "ExecuteTime": {
     "end_time": "2024-08-26T16:46:10.042337Z",
     "start_time": "2024-08-26T16:46:09.974419Z"
    }
   },
   "source": [
    "import os\n",
    "import pickle\n",
    "from variational.exponential_family import GenericBernoulliDistributionNumpy as GenericBernoulliDistribution\n",
    "from experiments.bayesianSelectionVariable.utils import get_tgt_log_density\n",
    "import pandas as pd\n",
    "import numpy as np\n",
    "import matplotlib.pyplot as plt\n",
    "\n",
    "PKLs = []\n",
    "for file in os.listdir(\"./\"):\n",
    "    if file.endswith(\".pkl\"):\n",
    "        PKLs.append(pickle.load(open(file, \"rb\")))\n",
    "\n",
    "bernoulli = GenericBernoulliDistribution(dimension=9)\n",
    "\n",
    "PKLs = []\n",
    "for file in os.listdir(\"./\"):\n",
    "    if file.endswith(\".pkl\"):\n",
    "        PKLs.append(pickle.load(open(file, \"rb\")))\n",
    "\n",
    "data = pd.read_csv('../concrete_from_particles_simple.csv', header=None, delimiter=\",\")\n",
    "obs = np.array(data.iloc[:, 0].to_numpy())\n",
    "reg = np.array(data.iloc[:, 1:].to_numpy())\n",
    "dim = reg.shape[1]\n",
    "tgt_log_density = get_tgt_log_density(reg, obs)\n"
   ],
   "execution_count": 11,
   "outputs": []
  },
  {
   "metadata": {
    "ExecuteTime": {
     "end_time": "2024-08-26T16:44:10.387604Z",
     "start_time": "2024-08-26T16:44:10.304293Z"
    }
   },
   "cell_type": "code",
   "source": [
    "max_probas = np.max([np.mean(PKLs[0][i]['output'].X.theta,axis=0) for i in range(3)], axis=0)\n",
    "min_probas = np.min([np.mean(PKLs[0][i]['output'].X.theta,axis=0) for i in range(3)], axis=0)\n",
    "mean_probas = np.mean([np.mean(PKLs[0][i]['output'].X.theta,axis=0) for i in range(3)], axis=0)\n",
    "np.savetxt('min_probs.csv', min_probas)\n",
    "np.savetxt('max_probs.csv', max_probas)\n",
    "np.savetxt('mean_probs.csv', mean_probas)"
   ],
   "id": "bac97ee04b966da1",
   "execution_count": 7,
   "outputs": []
  },
  {
   "metadata": {
    "ExecuteTime": {
     "end_time": "2024-08-26T16:18:01.811322Z",
     "start_time": "2024-08-26T16:18:01.802659Z"
    }
   },
   "cell_type": "code",
   "source": "mean_probas",
   "id": "6b1b12c8f2a6d1e0",
   "execution_count": 5,
   "outputs": []
  },
  {
   "metadata": {
    "ExecuteTime": {
     "end_time": "2024-08-26T16:47:41.121097Z",
     "start_time": "2024-08-26T16:47:40.072792Z"
    }
   },
   "cell_type": "code",
   "source": [
    "\n",
    "PKLs_SMC = []\n",
    "for file in os.listdir(\"../output_SMC_simple/\"):\n",
    "    if file.endswith(\".pkl\"):\n",
    "        PKLs_SMC.append(pickle.load(open(\"../output_SMC_simple/\"+file, \"rb\")))\n",
    "max_probas_SMC = np.max([np.mean(PKLs_SMC[0][i]['output'].X.theta,axis=0) for i in range(3)], axis=0)\n",
    "min_probas_SMC = np.min([np.mean(PKLs_SMC[0][i]['output'].X.theta,axis=0) for i in range(3)], axis=0)\n",
    "mean_probas_SMC = np.mean([np.mean(PKLs_SMC[0][i]['output'].X.theta,axis=0) for i in range(3)], axis=0)\n",
    "theta_SMC = bernoulli.get_theta(mean_probas_SMC)\n",
    "theta_SMC[theta==np.inf] = 1000000\n",
    "my_sampled_models_SMC=bernoulli.sampling_method_numpy(theta_SMC, 1000)\n",
    "plt.hist(tgt_log_density(my_sampled_models_SMC), bins=100, label=\"SMC\")\n",
    "\n",
    "\n",
    "theta = bernoulli.get_theta(mean_probas)\n",
    "theta[theta==np.inf] = 1000000\n",
    "my_sampled_models=bernoulli.sampling_method_numpy(theta, 1000)\n",
    "plt.hist(tgt_log_density(my_sampled_models), bins=100, label=\"LSVI\", alpha=0.5)\n",
    "plt.legend()"
   ],
   "id": "50da5826e9efea5a",
   "execution_count": 23,
   "outputs": []
  },
  {
   "metadata": {
    "ExecuteTime": {
     "end_time": "2024-08-26T16:47:48.633535Z",
     "start_time": "2024-08-26T16:47:48.622391Z"
    }
   },
   "cell_type": "code",
   "source": "theta",
   "id": "2a125ec8a8469306",
   "execution_count": 24,
   "outputs": []
  },
  {
   "metadata": {
    "ExecuteTime": {
     "end_time": "2024-08-26T16:48:03.102214Z",
     "start_time": "2024-08-26T16:48:03.095869Z"
    }
   },
   "cell_type": "code",
   "source": "bernoulli.get_p(bernoulli.get_theta(mean_probas))",
   "id": "880983b929da07d6",
   "execution_count": 26,
   "outputs": []
  },
  {
   "metadata": {},
   "cell_type": "code",
   "execution_count": null,
   "source": "",
   "id": "8ef1dc5179585d55",
   "outputs": []
  }
 ],
 "metadata": {
  "kernelspec": {
   "display_name": "Python 3",
   "language": "python",
   "name": "python3"
  },
  "language_info": {
   "codemirror_mode": {
    "name": "ipython",
    "version": 2
   },
   "file_extension": ".py",
   "mimetype": "text/x-python",
   "name": "python",
   "nbconvert_exporter": "python",
   "pygments_lexer": "ipython2",
   "version": "2.7.6"
  }
 },
 "nbformat": 4,
 "nbformat_minor": 5
}
